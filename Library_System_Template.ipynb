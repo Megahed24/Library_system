{
 "cells": [
  {
   "attachments": {},
   "cell_type": "markdown",
   "metadata": {},
   "source": [
    "![image.png](library.jpg)"
   ]
  },
  {
   "cell_type": "markdown",
   "metadata": {},
   "source": [
    "> ### Harry works in the library, Harry is tired of writing data in paper records so Harry decides to go digital.\n",
    "> ### Harry wants a program to do all the operations in the library.\n",
    "> ### Let's help Harry!"
   ]
  },
  {
   "cell_type": "markdown",
   "metadata": {},
   "source": [
    "# Task 1 : \n",
    "- #### task 1.1 Make Class(Library) with attributes:\n",
    "    - booksList  \n",
    "    - name of lirary  \n",
    "    - lended books (name of user, book) \n",
    "- #### task 1.2 Make method to display available Books.\n",
    "- #### task 1.3 Make method for books lending.\n",
    "    - Don't forget to check if book isn't already lended \n",
    "- #### task 1.4 Make method to add Book to library.\n",
    "- #### task 1.5 Make method to return borrowed book."
   ]
  },
  {
   "cell_type": "code",
   "execution_count": 2,
   "metadata": {},
   "outputs": [],
   "source": [
    "class library:\n",
    "    def __init__(self,booklist,libname,bookslended):\n",
    "        self.booklist = booklist\n",
    "        self.libname = libname\n",
    "        self.bookslended = bookslended\n",
    "        \n",
    "    def books(self):\n",
    "        for i in self.booklist:\n",
    "            print(i)\n",
    "    \n",
    "    def avbooks(self):\n",
    "        avail = []\n",
    "        for i in self.booklist :\n",
    "            if i not in self.bookslended.values():\n",
    "                avail.append(i)\n",
    "        return avail\n",
    "    \n",
    "    def lend(self,name,bookname):\n",
    "        if bookname in self.avbooks():\n",
    "            print('lend')\n",
    "            self.bookslended[name] = bookname\n",
    "            return self.bookslended\n",
    "        else: \n",
    "            print('not available')\n",
    "    \n",
    "    def add(self,bookname):\n",
    "        self.booklist.append(bookname)\n",
    "        return self.booklist\n",
    "        \n",
    "    def returnbook(self,name,bookname):\n",
    "        print(bookname,'returned!')\n",
    "        del self.bookslended[name]\n",
    "        print('hope you enjoyed the book!')\n",
    "    \n",
    "        \n",
    "        \n"
   ]
  },
  {
   "cell_type": "code",
   "execution_count": null,
   "metadata": {},
   "outputs": [],
   "source": []
  },
  {
   "cell_type": "code",
   "execution_count": null,
   "metadata": {},
   "outputs": [],
   "source": [
    "\n"
   ]
  },
  {
   "cell_type": "markdown",
   "metadata": {},
   "source": [
    "# Task 2 : \n",
    "- #### task 2.1 Make object(Harry) with attributes:\n",
    "    - booksList  = ['Python', 'Rich Daddy Poor Daddy', 'Harry Potter', 'C++ Basics', 'Algorithms by CLRS']\n",
    "    - name of lirary  = \"CodeWithHarry\"\n",
    "- #### task 2.2 Make program run with this choices. __(Don't forget the welcome message)__\n",
    "    - 1. Display Books\n",
    "    - 2. Lend a Book\n",
    "    - 3. Add a Book\n",
    "    - 4. Return a Book\n",
    "- #### task 2.3 Make prgram ends or continue."
   ]
  },
  {
   "cell_type": "code",
   "execution_count": 3,
   "metadata": {},
   "outputs": [],
   "source": [
    "Harry = library(['Python', 'Rich Daddy Poor Daddy', 'Harry Potter', 'C++ Basics', 'Algorithms by CLRS'],\"CodeWithHarry\",{})\n"
   ]
  },
  {
   "cell_type": "code",
   "execution_count": null,
   "metadata": {},
   "outputs": [
    {
     "name": "stdout",
     "output_type": "stream",
     "text": [
      "welcome to our library!\n",
      "enter your name:qw\n",
      "to display available books choose 1, to lend a book choose 2,to add a book press 3, to return a book press 42\n",
      "enter book name:C++\n",
      "not available\n",
      "to return to menu press 1 to exit press 2:1\n"
     ]
    }
   ],
   "source": [
    "print('welcome to our library!')\n",
    "name = input('enter your name:')\n",
    "\n",
    "power = 1\n",
    "while power == 1:\n",
    "    intro = input('to display available books choose 1, to lend a book choose 2,to add a book press 3, to return a book press 4')\n",
    "    if intro == '1':\n",
    "        print(Harry.avbooks())\n",
    "    elif intro == '2':\n",
    "        b = input('enter book name:')\n",
    "        Harry.lend(name,b)\n",
    "    elif intro == '3':\n",
    "         Harry.add(input('enter book name:'))\n",
    "    elif intro == '4':\n",
    "         Harry.returnbook(name,input('enter book name:'))\n",
    "    choice = input('to return to menu press 1 to exit press 2:')\n",
    "    if choice == '1':\n",
    "        power = 1\n",
    "        \n",
    "    else:\n",
    "        power = 0\n",
    "        print('thank you, come again!')\n",
    "\n"
   ]
  },
  {
   "cell_type": "code",
   "execution_count": 15,
   "metadata": {},
   "outputs": [
    {
     "data": {
      "text/plain": [
       "['Rich Daddy Poor Daddy',\n",
       " 'Harry Potter',\n",
       " 'C++ Basics',\n",
       " 'Algorithms by CLRS',\n",
       " 'Doctors']"
      ]
     },
     "execution_count": 15,
     "metadata": {},
     "output_type": "execute_result"
    }
   ],
   "source": [
    "Harry.avbooks()"
   ]
  }
 ],
 "metadata": {
  "kernelspec": {
   "display_name": "Python 3",
   "language": "python",
   "name": "python3"
  },
  "language_info": {
   "codemirror_mode": {
    "name": "ipython",
    "version": 3
   },
   "file_extension": ".py",
   "mimetype": "text/x-python",
   "name": "python",
   "nbconvert_exporter": "python",
   "pygments_lexer": "ipython3",
   "version": "3.7.4"
  },
  "vscode": {
   "interpreter": {
    "hash": "78c960279fecff9e244480132042affa22d495e3cfc64966045877e7ad2bb26d"
   }
  }
 },
 "nbformat": 4,
 "nbformat_minor": 4
}
